{
 "cells": [
  {
   "cell_type": "code",
   "execution_count": 1,
   "id": "dce7f5db",
   "metadata": {},
   "outputs": [],
   "source": [
    "import requests\n",
    "from bs4 import BeautifulSoup\n",
    "import pandas as pd\n",
    "import random"
   ]
  },
  {
   "cell_type": "code",
   "execution_count": 2,
   "id": "df257f3c",
   "metadata": {},
   "outputs": [
    {
     "data": {
      "text/html": [
       "<div>\n",
       "<style scoped>\n",
       "    .dataframe tbody tr th:only-of-type {\n",
       "        vertical-align: middle;\n",
       "    }\n",
       "\n",
       "    .dataframe tbody tr th {\n",
       "        vertical-align: top;\n",
       "    }\n",
       "\n",
       "    .dataframe thead th {\n",
       "        text-align: right;\n",
       "    }\n",
       "</style>\n",
       "<table border=\"1\" class=\"dataframe\">\n",
       "  <thead>\n",
       "    <tr style=\"text-align: right;\">\n",
       "      <th></th>\n",
       "      <th>Question</th>\n",
       "      <th>Answer</th>\n",
       "    </tr>\n",
       "  </thead>\n",
       "  <tbody>\n",
       "    <tr>\n",
       "      <th>0</th>\n",
       "      <td>What vaccines are there against COVID-19?</td>\n",
       "      <td>There are several COVID-19 vaccines validated ...</td>\n",
       "    </tr>\n",
       "    <tr>\n",
       "      <th>1</th>\n",
       "      <td>What are the benefits of getting vaccinated?</td>\n",
       "      <td>Getting vaccinated could save your life. COVID...</td>\n",
       "    </tr>\n",
       "    <tr>\n",
       "      <th>2</th>\n",
       "      <td>Who should get vaccinated against COVID-19?</td>\n",
       "      <td>WHO recommends that while vaccine supply is li...</td>\n",
       "    </tr>\n",
       "    <tr>\n",
       "      <th>3</th>\n",
       "      <td>Who should not be vaccinated against COVID-19?</td>\n",
       "      <td>There are very few conditions that would exclu...</td>\n",
       "    </tr>\n",
       "    <tr>\n",
       "      <th>4</th>\n",
       "      <td>Should I be vaccinated if I have had COVID-19?</td>\n",
       "      <td>Yes. Even if you have already had COVID-19, yo...</td>\n",
       "    </tr>\n",
       "  </tbody>\n",
       "</table>\n",
       "</div>"
      ],
      "text/plain": [
       "                                         Question  \\\n",
       "0       What vaccines are there against COVID-19?   \n",
       "1    What are the benefits of getting vaccinated?   \n",
       "2     Who should get vaccinated against COVID-19?   \n",
       "3  Who should not be vaccinated against COVID-19?   \n",
       "4  Should I be vaccinated if I have had COVID-19?   \n",
       "\n",
       "                                              Answer  \n",
       "0  There are several COVID-19 vaccines validated ...  \n",
       "1  Getting vaccinated could save your life. COVID...  \n",
       "2  WHO recommends that while vaccine supply is li...  \n",
       "3  There are very few conditions that would exclu...  \n",
       "4  Yes. Even if you have already had COVID-19, yo...  "
      ]
     },
     "execution_count": 2,
     "metadata": {},
     "output_type": "execute_result"
    }
   ],
   "source": [
    "#fetching WHO COVID FAQ\n",
    "\n",
    "links=['https://www.who.int/news-room/questions-and-answers/item/coronavirus-disease-(covid-19)-vaccines',\n",
    "     'https://www.who.int/news-room/questions-and-answers/item/coronavirus-disease-(covid-19)-vaccines-safety',\n",
    "     'https://www.who.int/news-room/questions-and-answers/item/coronavirus-disease-(covid-19)-covid-19-vaccines-and-people-living-with-hiv',\n",
    "     'https://www.who.int/news-room/questions-and-answers/item/coronavirus-disease-use-of-emergency-use-listing-procedure-forvaccines-against-covid-19']\n",
    "q=[]\n",
    "a=[]\n",
    "for link in links:\n",
    "    source=requests.get(link)\n",
    "    soup=BeautifulSoup(source.text,'html.parser')\n",
    "    c=soup.find_all('a',{'class':'sf-accordion__link'})\n",
    "    for i in c:\n",
    "        q.append(' '.join(i.text.split()))\n",
    "    c=soup.find_all('p',{'class':'sf-accordion__summary'})\n",
    "    for i in c:\n",
    "        a.append(' '.join(i.text.split()))\n",
    "df=pd.DataFrame()\n",
    "df['Question']=q\n",
    "df['Answer']=a\n",
    "df.head()"
   ]
  },
  {
   "cell_type": "code",
   "execution_count": 3,
   "id": "1aae6112",
   "metadata": {},
   "outputs": [],
   "source": [
    "import numpy as np\n",
    "import nltk\n",
    "import string"
   ]
  },
  {
   "cell_type": "code",
   "execution_count": 4,
   "id": "69abd4d1",
   "metadata": {},
   "outputs": [],
   "source": [
    "df['Question']=df['Question'].str.lower()"
   ]
  },
  {
   "cell_type": "code",
   "execution_count": 5,
   "id": "301d2516",
   "metadata": {},
   "outputs": [],
   "source": [
    "def remove_punctuation(text):\n",
    "    exclude = set(string.punctuation)\n",
    "    return ''.join(ch for ch in text if ch not in exclude)"
   ]
  },
  {
   "cell_type": "code",
   "execution_count": 6,
   "id": "99e4bb17",
   "metadata": {},
   "outputs": [],
   "source": [
    "df['Question_']=df['Question'].apply(remove_punctuation)"
   ]
  },
  {
   "cell_type": "code",
   "execution_count": 7,
   "id": "a7148148",
   "metadata": {},
   "outputs": [
    {
     "data": {
      "text/html": [
       "<div>\n",
       "<style scoped>\n",
       "    .dataframe tbody tr th:only-of-type {\n",
       "        vertical-align: middle;\n",
       "    }\n",
       "\n",
       "    .dataframe tbody tr th {\n",
       "        vertical-align: top;\n",
       "    }\n",
       "\n",
       "    .dataframe thead th {\n",
       "        text-align: right;\n",
       "    }\n",
       "</style>\n",
       "<table border=\"1\" class=\"dataframe\">\n",
       "  <thead>\n",
       "    <tr style=\"text-align: right;\">\n",
       "      <th></th>\n",
       "      <th>Question</th>\n",
       "      <th>Answer</th>\n",
       "      <th>Question_</th>\n",
       "    </tr>\n",
       "  </thead>\n",
       "  <tbody>\n",
       "    <tr>\n",
       "      <th>0</th>\n",
       "      <td>what vaccines are there against covid-19?</td>\n",
       "      <td>There are several COVID-19 vaccines validated ...</td>\n",
       "      <td>what vaccines are there against covid19</td>\n",
       "    </tr>\n",
       "    <tr>\n",
       "      <th>1</th>\n",
       "      <td>what are the benefits of getting vaccinated?</td>\n",
       "      <td>Getting vaccinated could save your life. COVID...</td>\n",
       "      <td>what are the benefits of getting vaccinated</td>\n",
       "    </tr>\n",
       "    <tr>\n",
       "      <th>2</th>\n",
       "      <td>who should get vaccinated against covid-19?</td>\n",
       "      <td>WHO recommends that while vaccine supply is li...</td>\n",
       "      <td>who should get vaccinated against covid19</td>\n",
       "    </tr>\n",
       "    <tr>\n",
       "      <th>3</th>\n",
       "      <td>who should not be vaccinated against covid-19?</td>\n",
       "      <td>There are very few conditions that would exclu...</td>\n",
       "      <td>who should not be vaccinated against covid19</td>\n",
       "    </tr>\n",
       "    <tr>\n",
       "      <th>4</th>\n",
       "      <td>should i be vaccinated if i have had covid-19?</td>\n",
       "      <td>Yes. Even if you have already had COVID-19, yo...</td>\n",
       "      <td>should i be vaccinated if i have had covid19</td>\n",
       "    </tr>\n",
       "  </tbody>\n",
       "</table>\n",
       "</div>"
      ],
      "text/plain": [
       "                                         Question  \\\n",
       "0       what vaccines are there against covid-19?   \n",
       "1    what are the benefits of getting vaccinated?   \n",
       "2     who should get vaccinated against covid-19?   \n",
       "3  who should not be vaccinated against covid-19?   \n",
       "4  should i be vaccinated if i have had covid-19?   \n",
       "\n",
       "                                              Answer  \\\n",
       "0  There are several COVID-19 vaccines validated ...   \n",
       "1  Getting vaccinated could save your life. COVID...   \n",
       "2  WHO recommends that while vaccine supply is li...   \n",
       "3  There are very few conditions that would exclu...   \n",
       "4  Yes. Even if you have already had COVID-19, yo...   \n",
       "\n",
       "                                      Question_  \n",
       "0       what vaccines are there against covid19  \n",
       "1   what are the benefits of getting vaccinated  \n",
       "2     who should get vaccinated against covid19  \n",
       "3  who should not be vaccinated against covid19  \n",
       "4  should i be vaccinated if i have had covid19  "
      ]
     },
     "execution_count": 7,
     "metadata": {},
     "output_type": "execute_result"
    }
   ],
   "source": [
    "df.head()"
   ]
  },
  {
   "cell_type": "code",
   "execution_count": 8,
   "id": "dad8cf7c",
   "metadata": {},
   "outputs": [],
   "source": [
    "df['Question_']=df['Question_'].apply(nltk.word_tokenize)"
   ]
  },
  {
   "cell_type": "code",
   "execution_count": 9,
   "id": "f1305fcf",
   "metadata": {},
   "outputs": [],
   "source": [
    "lemmer=nltk.stem.WordNetLemmatizer()\n",
    "\n",
    "def LemTokens(tokens):\n",
    "    return [lemmer.lemmatize(token) for token in tokens]"
   ]
  },
  {
   "cell_type": "code",
   "execution_count": 10,
   "id": "31a529b9",
   "metadata": {},
   "outputs": [],
   "source": [
    "df['Question_']=df['Question_'].apply(LemTokens)"
   ]
  },
  {
   "cell_type": "code",
   "execution_count": 11,
   "id": "977c1cf6",
   "metadata": {},
   "outputs": [
    {
     "data": {
      "text/html": [
       "<div>\n",
       "<style scoped>\n",
       "    .dataframe tbody tr th:only-of-type {\n",
       "        vertical-align: middle;\n",
       "    }\n",
       "\n",
       "    .dataframe tbody tr th {\n",
       "        vertical-align: top;\n",
       "    }\n",
       "\n",
       "    .dataframe thead th {\n",
       "        text-align: right;\n",
       "    }\n",
       "</style>\n",
       "<table border=\"1\" class=\"dataframe\">\n",
       "  <thead>\n",
       "    <tr style=\"text-align: right;\">\n",
       "      <th></th>\n",
       "      <th>Question</th>\n",
       "      <th>Answer</th>\n",
       "      <th>Question_</th>\n",
       "    </tr>\n",
       "  </thead>\n",
       "  <tbody>\n",
       "    <tr>\n",
       "      <th>0</th>\n",
       "      <td>what vaccines are there against covid-19?</td>\n",
       "      <td>There are several COVID-19 vaccines validated ...</td>\n",
       "      <td>[what, vaccine, are, there, against, covid19]</td>\n",
       "    </tr>\n",
       "    <tr>\n",
       "      <th>1</th>\n",
       "      <td>what are the benefits of getting vaccinated?</td>\n",
       "      <td>Getting vaccinated could save your life. COVID...</td>\n",
       "      <td>[what, are, the, benefit, of, getting, vaccina...</td>\n",
       "    </tr>\n",
       "    <tr>\n",
       "      <th>2</th>\n",
       "      <td>who should get vaccinated against covid-19?</td>\n",
       "      <td>WHO recommends that while vaccine supply is li...</td>\n",
       "      <td>[who, should, get, vaccinated, against, covid19]</td>\n",
       "    </tr>\n",
       "    <tr>\n",
       "      <th>3</th>\n",
       "      <td>who should not be vaccinated against covid-19?</td>\n",
       "      <td>There are very few conditions that would exclu...</td>\n",
       "      <td>[who, should, not, be, vaccinated, against, co...</td>\n",
       "    </tr>\n",
       "    <tr>\n",
       "      <th>4</th>\n",
       "      <td>should i be vaccinated if i have had covid-19?</td>\n",
       "      <td>Yes. Even if you have already had COVID-19, yo...</td>\n",
       "      <td>[should, i, be, vaccinated, if, i, have, had, ...</td>\n",
       "    </tr>\n",
       "  </tbody>\n",
       "</table>\n",
       "</div>"
      ],
      "text/plain": [
       "                                         Question  \\\n",
       "0       what vaccines are there against covid-19?   \n",
       "1    what are the benefits of getting vaccinated?   \n",
       "2     who should get vaccinated against covid-19?   \n",
       "3  who should not be vaccinated against covid-19?   \n",
       "4  should i be vaccinated if i have had covid-19?   \n",
       "\n",
       "                                              Answer  \\\n",
       "0  There are several COVID-19 vaccines validated ...   \n",
       "1  Getting vaccinated could save your life. COVID...   \n",
       "2  WHO recommends that while vaccine supply is li...   \n",
       "3  There are very few conditions that would exclu...   \n",
       "4  Yes. Even if you have already had COVID-19, yo...   \n",
       "\n",
       "                                           Question_  \n",
       "0      [what, vaccine, are, there, against, covid19]  \n",
       "1  [what, are, the, benefit, of, getting, vaccina...  \n",
       "2   [who, should, get, vaccinated, against, covid19]  \n",
       "3  [who, should, not, be, vaccinated, against, co...  \n",
       "4  [should, i, be, vaccinated, if, i, have, had, ...  "
      ]
     },
     "execution_count": 11,
     "metadata": {},
     "output_type": "execute_result"
    }
   ],
   "source": [
    "df.head()"
   ]
  },
  {
   "cell_type": "code",
   "execution_count": 12,
   "id": "a1e9782e",
   "metadata": {},
   "outputs": [],
   "source": [
    "def join_lemmer_token(token):\n",
    "    return ' '.join(token)"
   ]
  },
  {
   "cell_type": "code",
   "execution_count": 13,
   "id": "9f1ae129",
   "metadata": {},
   "outputs": [],
   "source": [
    "df['Question_']=df['Question_'].apply(join_lemmer_token)"
   ]
  },
  {
   "cell_type": "code",
   "execution_count": 14,
   "id": "0304ab6b",
   "metadata": {},
   "outputs": [],
   "source": [
    "from sklearn.feature_extraction.text import CountVectorizer\n",
    "from sklearn.metrics.pairwise import cosine_similarity"
   ]
  },
  {
   "cell_type": "code",
   "execution_count": 15,
   "id": "28b8e792",
   "metadata": {},
   "outputs": [
    {
     "data": {
      "text/html": [
       "<div>\n",
       "<style scoped>\n",
       "    .dataframe tbody tr th:only-of-type {\n",
       "        vertical-align: middle;\n",
       "    }\n",
       "\n",
       "    .dataframe tbody tr th {\n",
       "        vertical-align: top;\n",
       "    }\n",
       "\n",
       "    .dataframe thead th {\n",
       "        text-align: right;\n",
       "    }\n",
       "</style>\n",
       "<table border=\"1\" class=\"dataframe\">\n",
       "  <thead>\n",
       "    <tr style=\"text-align: right;\">\n",
       "      <th></th>\n",
       "      <th>Question</th>\n",
       "      <th>Answer</th>\n",
       "      <th>Question_</th>\n",
       "    </tr>\n",
       "  </thead>\n",
       "  <tbody>\n",
       "    <tr>\n",
       "      <th>0</th>\n",
       "      <td>what vaccines are there against covid-19?</td>\n",
       "      <td>There are several COVID-19 vaccines validated ...</td>\n",
       "      <td>what vaccine are there against covid19</td>\n",
       "    </tr>\n",
       "    <tr>\n",
       "      <th>1</th>\n",
       "      <td>what are the benefits of getting vaccinated?</td>\n",
       "      <td>Getting vaccinated could save your life. COVID...</td>\n",
       "      <td>what are the benefit of getting vaccinated</td>\n",
       "    </tr>\n",
       "    <tr>\n",
       "      <th>2</th>\n",
       "      <td>who should get vaccinated against covid-19?</td>\n",
       "      <td>WHO recommends that while vaccine supply is li...</td>\n",
       "      <td>who should get vaccinated against covid19</td>\n",
       "    </tr>\n",
       "    <tr>\n",
       "      <th>3</th>\n",
       "      <td>who should not be vaccinated against covid-19?</td>\n",
       "      <td>There are very few conditions that would exclu...</td>\n",
       "      <td>who should not be vaccinated against covid19</td>\n",
       "    </tr>\n",
       "    <tr>\n",
       "      <th>4</th>\n",
       "      <td>should i be vaccinated if i have had covid-19?</td>\n",
       "      <td>Yes. Even if you have already had COVID-19, yo...</td>\n",
       "      <td>should i be vaccinated if i have had covid19</td>\n",
       "    </tr>\n",
       "  </tbody>\n",
       "</table>\n",
       "</div>"
      ],
      "text/plain": [
       "                                         Question  \\\n",
       "0       what vaccines are there against covid-19?   \n",
       "1    what are the benefits of getting vaccinated?   \n",
       "2     who should get vaccinated against covid-19?   \n",
       "3  who should not be vaccinated against covid-19?   \n",
       "4  should i be vaccinated if i have had covid-19?   \n",
       "\n",
       "                                              Answer  \\\n",
       "0  There are several COVID-19 vaccines validated ...   \n",
       "1  Getting vaccinated could save your life. COVID...   \n",
       "2  WHO recommends that while vaccine supply is li...   \n",
       "3  There are very few conditions that would exclu...   \n",
       "4  Yes. Even if you have already had COVID-19, yo...   \n",
       "\n",
       "                                      Question_  \n",
       "0        what vaccine are there against covid19  \n",
       "1    what are the benefit of getting vaccinated  \n",
       "2     who should get vaccinated against covid19  \n",
       "3  who should not be vaccinated against covid19  \n",
       "4  should i be vaccinated if i have had covid19  "
      ]
     },
     "execution_count": 15,
     "metadata": {},
     "output_type": "execute_result"
    }
   ],
   "source": [
    "df.head()"
   ]
  },
  {
   "cell_type": "code",
   "execution_count": 16,
   "id": "8d21692f",
   "metadata": {},
   "outputs": [],
   "source": [
    "greet_input=('hello','hi','greetings','sup',\"what's up\",'hey')\n",
    "greet_response=('Hi, do you need some assistance?','Hey, thanks for your visit, can we help you in any way?','Hello! How can I help you today?')"
   ]
  },
  {
   "cell_type": "code",
   "execution_count": 17,
   "id": "69d53cf3",
   "metadata": {},
   "outputs": [],
   "source": [
    "def max_cosine_similarity(text):\n",
    "    m=0\n",
    "    m_index=0\n",
    "    for i in range(len(df)):\n",
    "        vectorizer = CountVectorizer()\n",
    "        bow_matrix = vectorizer.fit_transform([text,df['Question_'][i]])\n",
    "        bow_matrix.toarray()\n",
    "        if cosine_similarity(bow_matrix[0],bow_matrix[1])>m:\n",
    "            m=cosine_similarity(bow_matrix[0],bow_matrix[1])\n",
    "            m_index=i\n",
    "    if m>0.5:\n",
    "        return df['Answer'][m_index]\n",
    "    return \"I'm Sorry! I don't understand you\""
   ]
  },
  {
   "cell_type": "code",
   "execution_count": 19,
   "id": "17cfcc43",
   "metadata": {},
   "outputs": [
    {
     "name": "stdout",
     "output_type": "stream",
     "text": [
      "BOT : Hi, thanks for visiting COVID 19 Vaccination Q&A, can we help you in any way?\n",
      "\tIf you want to exit any time, just type Bye\n",
      "User : side effect of covid19\n",
      "Like with any vaccine, some people will experience mild to moderate side effects after being vaccinated against COVID-19. This is a normal sign that the body is developing protection. Side effects to COVID-19 vaccines include a fever, tiredness, headache, muscle ache, chills, diarrhoea and pain or redness at the injection site. Not everyone will experience side effects. Most side effects go away within a few days on their own. You can manage any side effects with rest, plenty of non-alcoholic liquids and taking medication to manage pain and fever, if needed. If you are worried that the side effects that you are experiencing are unusual, if the pain in the arm where you got the injection gets worse after 24 hours or your side effects don’t go away in a few days, contact your healthcare provider for advice. More serious or long-lasting side effects to COVID-19 vaccines are possible but extremely rare. If you experience difficulty breathing, chest pain, confusion, loss of speech or mobility after your vaccine, contact your healthcare provider immediately. Vaccines are continually monitored for as long as they are in use to detect and respond to rare adverse events. Read more:The side effects of COVID-19 vaccines.\n",
      "User : no side effect\n",
      "The vaccine stimulates your immune system to protect you from the virus. This process can sometimes cause side effects like fever, chills or headache, but not everyone will experiences any side effect. The presence or magnitude of the reaction you may have vaccination does not predict or reflect your immune response to the vaccine. You do not have to have side effects in order to be protected.Read more: Side effects of COVID-19 vaccines\n",
      "User : Good Bye\n",
      "BOT : Thanks for visiting Good Bye! Take Care\n"
     ]
    }
   ],
   "source": [
    "flag= True\n",
    "print(\"BOT : Hi, thanks for visiting COVID 19 Vaccination Q&A, can we help you in any way?\"+'\\n\\t'+'If you want to exit any time, just type Bye')\n",
    "while flag==True:\n",
    "    user_response=input('User : ').lower()\n",
    "#     if user_response=='thanks' or user_response=='thanks you' or user_response=='bye':\n",
    "    if 'thank' in user_response or 'bye' in user_response:\n",
    "        flag=False\n",
    "        print('BOT : Thanks for visiting Good Bye! Take Care')\n",
    "    elif user_response in greet_input:\n",
    "        print('BOT : '+random.choice(greet_response))\n",
    "    else:\n",
    "        print(max_cosine_similarity(user_response))"
   ]
  },
  {
   "cell_type": "code",
   "execution_count": null,
   "id": "d55f12f5",
   "metadata": {},
   "outputs": [],
   "source": []
  }
 ],
 "metadata": {
  "kernelspec": {
   "display_name": "Python 3 (ipykernel)",
   "language": "python",
   "name": "python3"
  },
  "language_info": {
   "codemirror_mode": {
    "name": "ipython",
    "version": 3
   },
   "file_extension": ".py",
   "mimetype": "text/x-python",
   "name": "python",
   "nbconvert_exporter": "python",
   "pygments_lexer": "ipython3",
   "version": "3.10.4"
  }
 },
 "nbformat": 4,
 "nbformat_minor": 5
}
